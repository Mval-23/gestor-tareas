{
 "cells": [
  {
   "cell_type": "code",
   "execution_count": 84,
   "metadata": {},
   "outputs": [],
   "source": [
    "tarea=[]\n",
    "tarea1={ \"nombre\":\"Estudiar para el examen\", \"descripcion\":\"practicar Phyton\",\"Estado\":\"en progreso\"}\n",
    "tarea2={ \"nombre\":\"Ir al super\", \"descripcion\":\"Comprar leche y huevo\",\"Estado\":\"pendiente\"}\n",
    "tarea3={ \"nombre\":\"Hacer ejercicios\", \"descripcion\":\"Ir al gimnasio\",\"Estado\":\"pendiente\"}"
   ]
  },
  {
   "cell_type": "code",
   "execution_count": 85,
   "metadata": {},
   "outputs": [],
   "source": [
    "tarea.insert(0,tarea1)\n",
    "tarea.insert(1,tarea2)\n",
    "tarea.insert(2,tarea3)"
   ]
  },
  {
   "cell_type": "code",
   "execution_count": 86,
   "metadata": {},
   "outputs": [
    {
     "name": "stdout",
     "output_type": "stream",
     "text": [
      "tarea: Estudiar para el examen - practicar Phyton - Estado: en progreso\n",
      "tarea: Hacer ejercicios - Ir al gimnasio - Estado: pendiente\n"
     ]
    }
   ],
   "source": [
    "tarea_eliminada=tarea.pop(1) \n",
    "#elimino la 2da tarea\n",
    "for tarea in tarea:\n",
    "    print(f\"tarea: {tarea['nombre']} - {tarea['descripcion']} - Estado: {tarea['Estado']}\")"
   ]
  }
 ],
 "metadata": {
  "kernelspec": {
   "display_name": "Python 3",
   "language": "python",
   "name": "python3"
  },
  "language_info": {
   "codemirror_mode": {
    "name": "ipython",
    "version": 3
   },
   "file_extension": ".py",
   "mimetype": "text/x-python",
   "name": "python",
   "nbconvert_exporter": "python",
   "pygments_lexer": "ipython3",
   "version": "3.11.5"
  }
 },
 "nbformat": 4,
 "nbformat_minor": 2
}
